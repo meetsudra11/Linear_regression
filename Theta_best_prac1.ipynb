{
 "cells": [
  {
   "cell_type": "code",
   "execution_count": 2,
   "id": "bb145a05-c44f-4978-9b70-7d9a665dcbb7",
   "metadata": {},
   "outputs": [],
   "source": [
    "import numpy as np\n",
    "\n",
    "X = 2*np.random.rand(100,1)\n",
    "y = 3*X + 4 + np.random.randn(100,1) #  noise dala he"
   ]
  },
  {
   "cell_type": "code",
   "execution_count": 3,
   "id": "5248a987-81b9-4eb8-ac32-8ceb6cd6b1ab",
   "metadata": {
    "scrolled": true
   },
   "outputs": [
    {
     "name": "stdout",
     "output_type": "stream",
     "text": [
      "[[0.41990231]\n",
      " [0.2390156 ]\n",
      " [0.8551397 ]\n",
      " [0.67489785]\n",
      " [1.28305163]\n",
      " [0.56517691]\n",
      " [0.25488332]\n",
      " [1.07935193]\n",
      " [1.69090488]\n",
      " [0.23004695]\n",
      " [1.47626729]\n",
      " [1.22449158]\n",
      " [0.72243741]\n",
      " [0.86429841]\n",
      " [0.40811105]\n",
      " [0.96335855]\n",
      " [1.67431506]\n",
      " [1.68436735]\n",
      " [1.81544599]\n",
      " [1.49994402]\n",
      " [0.5503254 ]\n",
      " [1.28190559]\n",
      " [0.51104852]\n",
      " [0.4516778 ]\n",
      " [0.67729234]\n",
      " [1.85005123]\n",
      " [0.6817588 ]\n",
      " [1.59457821]\n",
      " [0.23403998]\n",
      " [1.87283274]\n",
      " [0.422316  ]\n",
      " [0.39888451]\n",
      " [1.25726754]\n",
      " [1.5060614 ]\n",
      " [1.40822983]\n",
      " [0.26960926]\n",
      " [1.90062344]\n",
      " [1.12434699]\n",
      " [0.23768928]\n",
      " [1.63447297]\n",
      " [0.80574868]\n",
      " [0.38410606]\n",
      " [0.00646974]\n",
      " [1.29255839]\n",
      " [0.61826737]\n",
      " [0.80343345]\n",
      " [0.15704089]\n",
      " [1.15744409]\n",
      " [0.16700066]\n",
      " [1.98291599]\n",
      " [0.97150973]\n",
      " [0.16348223]\n",
      " [0.39363843]\n",
      " [0.56508456]\n",
      " [1.77249419]\n",
      " [1.01041141]\n",
      " [1.84656521]\n",
      " [0.46055304]\n",
      " [0.15125361]\n",
      " [0.08806946]\n",
      " [0.34376911]\n",
      " [0.60840415]\n",
      " [0.14693787]\n",
      " [0.68020303]\n",
      " [1.32609999]\n",
      " [0.03042602]\n",
      " [0.08190314]\n",
      " [0.89421171]\n",
      " [1.78753803]\n",
      " [0.2122187 ]\n",
      " [0.63394865]\n",
      " [1.2507783 ]\n",
      " [0.79052511]\n",
      " [1.17012213]\n",
      " [1.49739546]\n",
      " [1.65912495]\n",
      " [1.21032328]\n",
      " [1.84179367]\n",
      " [1.17969957]\n",
      " [0.18703008]\n",
      " [1.57981214]\n",
      " [0.75932976]\n",
      " [1.73896644]\n",
      " [0.22521984]\n",
      " [0.64862507]\n",
      " [1.50204862]\n",
      " [1.20062371]\n",
      " [1.47819575]\n",
      " [1.62926576]\n",
      " [1.96040477]\n",
      " [0.75525288]\n",
      " [0.66998341]\n",
      " [1.75738326]\n",
      " [0.96651699]\n",
      " [0.35569745]\n",
      " [1.04967892]\n",
      " [0.7101125 ]\n",
      " [0.22992823]\n",
      " [0.7348067 ]\n",
      " [1.99033386]]\n"
     ]
    }
   ],
   "source": [
    "print(X)"
   ]
  },
  {
   "cell_type": "code",
   "execution_count": 4,
   "id": "8dde050a-9f94-4f98-a84e-9ad5ac0af4ad",
   "metadata": {
    "scrolled": true
   },
   "outputs": [
    {
     "name": "stdout",
     "output_type": "stream",
     "text": [
      "[[ 5.02182197]\n",
      " [ 4.47424278]\n",
      " [ 5.27332414]\n",
      " [ 6.69949919]\n",
      " [ 7.19811234]\n",
      " [ 6.01984167]\n",
      " [ 4.47086323]\n",
      " [ 5.48583202]\n",
      " [10.09479003]\n",
      " [ 4.108005  ]\n",
      " [10.26396401]\n",
      " [ 7.09318903]\n",
      " [ 7.16898388]\n",
      " [ 7.55791275]\n",
      " [ 5.95535146]\n",
      " [ 7.12616587]\n",
      " [ 9.08097744]\n",
      " [ 8.22947471]\n",
      " [10.60025879]\n",
      " [ 9.27378753]\n",
      " [ 4.53182478]\n",
      " [ 7.56638281]\n",
      " [ 6.60403334]\n",
      " [ 5.75140662]\n",
      " [ 6.03318857]\n",
      " [11.9105889 ]\n",
      " [ 6.01658274]\n",
      " [ 9.86331391]\n",
      " [ 5.98496328]\n",
      " [10.88352793]\n",
      " [ 6.39697101]\n",
      " [ 5.04658671]\n",
      " [ 8.48447938]\n",
      " [ 8.21668438]\n",
      " [ 8.44858102]\n",
      " [ 4.94716588]\n",
      " [ 9.01055304]\n",
      " [ 6.86137181]\n",
      " [ 4.35328022]\n",
      " [ 9.76165272]\n",
      " [ 7.45288188]\n",
      " [ 5.50761968]\n",
      " [ 2.68228372]\n",
      " [ 7.47572232]\n",
      " [ 6.31371719]\n",
      " [ 6.44412136]\n",
      " [ 4.82980911]\n",
      " [ 8.3610081 ]\n",
      " [ 2.13205436]\n",
      " [ 9.36754892]\n",
      " [ 7.68171266]\n",
      " [ 6.30858637]\n",
      " [ 3.48999112]\n",
      " [ 4.09424789]\n",
      " [ 9.97649521]\n",
      " [ 7.41326019]\n",
      " [ 9.24779745]\n",
      " [ 2.88343522]\n",
      " [ 5.28545889]\n",
      " [ 3.49218781]\n",
      " [ 5.69267434]\n",
      " [ 6.32629578]\n",
      " [ 5.4698776 ]\n",
      " [ 6.7020477 ]\n",
      " [ 8.5014731 ]\n",
      " [ 3.53141751]\n",
      " [ 3.43990574]\n",
      " [ 8.5710785 ]\n",
      " [ 9.69761351]\n",
      " [ 5.08756342]\n",
      " [ 3.72330244]\n",
      " [ 7.51972405]\n",
      " [ 5.93627707]\n",
      " [ 7.74537722]\n",
      " [ 8.15977639]\n",
      " [ 7.77759204]\n",
      " [ 8.94701225]\n",
      " [ 8.71192048]\n",
      " [ 5.6942046 ]\n",
      " [ 3.32557003]\n",
      " [ 7.27878285]\n",
      " [ 7.05863599]\n",
      " [ 8.68990546]\n",
      " [ 5.57580998]\n",
      " [ 6.76724571]\n",
      " [ 7.86739977]\n",
      " [ 8.73435477]\n",
      " [ 8.52219529]\n",
      " [10.03020638]\n",
      " [10.69491357]\n",
      " [ 6.4178076 ]\n",
      " [ 5.1404034 ]\n",
      " [ 8.30136634]\n",
      " [ 7.66707033]\n",
      " [ 4.41279554]\n",
      " [ 6.99199635]\n",
      " [ 6.38383458]\n",
      " [ 5.24584674]\n",
      " [ 7.13332801]\n",
      " [ 9.77164305]]\n"
     ]
    }
   ],
   "source": [
    "print(y)"
   ]
  },
  {
   "cell_type": "code",
   "execution_count": 25,
   "id": "593de583-1d1d-407d-8191-2333b0b55514",
   "metadata": {},
   "outputs": [],
   "source": [
    "X_b = np.c_[np.ones((100,1)),X]\n",
    "# X_b(100,n+1)\n",
    "# new matrix with the shape (100,2)  X had n number of column n=1 after concatenation new matrix becomes n+1 that is 2"
   ]
  },
  {
   "cell_type": "code",
   "execution_count": 27,
   "id": "4118de56-0fea-4b95-85ff-979c36df6dad",
   "metadata": {
    "scrolled": true
   },
   "outputs": [
    {
     "data": {
      "text/plain": [
       "array([[1.        , 0.41990231],\n",
       "       [1.        , 0.2390156 ],\n",
       "       [1.        , 0.8551397 ],\n",
       "       [1.        , 0.67489785],\n",
       "       [1.        , 1.28305163],\n",
       "       [1.        , 0.56517691],\n",
       "       [1.        , 0.25488332],\n",
       "       [1.        , 1.07935193],\n",
       "       [1.        , 1.69090488],\n",
       "       [1.        , 0.23004695],\n",
       "       [1.        , 1.47626729],\n",
       "       [1.        , 1.22449158],\n",
       "       [1.        , 0.72243741],\n",
       "       [1.        , 0.86429841],\n",
       "       [1.        , 0.40811105],\n",
       "       [1.        , 0.96335855],\n",
       "       [1.        , 1.67431506],\n",
       "       [1.        , 1.68436735],\n",
       "       [1.        , 1.81544599],\n",
       "       [1.        , 1.49994402],\n",
       "       [1.        , 0.5503254 ],\n",
       "       [1.        , 1.28190559],\n",
       "       [1.        , 0.51104852],\n",
       "       [1.        , 0.4516778 ],\n",
       "       [1.        , 0.67729234],\n",
       "       [1.        , 1.85005123],\n",
       "       [1.        , 0.6817588 ],\n",
       "       [1.        , 1.59457821],\n",
       "       [1.        , 0.23403998],\n",
       "       [1.        , 1.87283274],\n",
       "       [1.        , 0.422316  ],\n",
       "       [1.        , 0.39888451],\n",
       "       [1.        , 1.25726754],\n",
       "       [1.        , 1.5060614 ],\n",
       "       [1.        , 1.40822983],\n",
       "       [1.        , 0.26960926],\n",
       "       [1.        , 1.90062344],\n",
       "       [1.        , 1.12434699],\n",
       "       [1.        , 0.23768928],\n",
       "       [1.        , 1.63447297],\n",
       "       [1.        , 0.80574868],\n",
       "       [1.        , 0.38410606],\n",
       "       [1.        , 0.00646974],\n",
       "       [1.        , 1.29255839],\n",
       "       [1.        , 0.61826737],\n",
       "       [1.        , 0.80343345],\n",
       "       [1.        , 0.15704089],\n",
       "       [1.        , 1.15744409],\n",
       "       [1.        , 0.16700066],\n",
       "       [1.        , 1.98291599],\n",
       "       [1.        , 0.97150973],\n",
       "       [1.        , 0.16348223],\n",
       "       [1.        , 0.39363843],\n",
       "       [1.        , 0.56508456],\n",
       "       [1.        , 1.77249419],\n",
       "       [1.        , 1.01041141],\n",
       "       [1.        , 1.84656521],\n",
       "       [1.        , 0.46055304],\n",
       "       [1.        , 0.15125361],\n",
       "       [1.        , 0.08806946],\n",
       "       [1.        , 0.34376911],\n",
       "       [1.        , 0.60840415],\n",
       "       [1.        , 0.14693787],\n",
       "       [1.        , 0.68020303],\n",
       "       [1.        , 1.32609999],\n",
       "       [1.        , 0.03042602],\n",
       "       [1.        , 0.08190314],\n",
       "       [1.        , 0.89421171],\n",
       "       [1.        , 1.78753803],\n",
       "       [1.        , 0.2122187 ],\n",
       "       [1.        , 0.63394865],\n",
       "       [1.        , 1.2507783 ],\n",
       "       [1.        , 0.79052511],\n",
       "       [1.        , 1.17012213],\n",
       "       [1.        , 1.49739546],\n",
       "       [1.        , 1.65912495],\n",
       "       [1.        , 1.21032328],\n",
       "       [1.        , 1.84179367],\n",
       "       [1.        , 1.17969957],\n",
       "       [1.        , 0.18703008],\n",
       "       [1.        , 1.57981214],\n",
       "       [1.        , 0.75932976],\n",
       "       [1.        , 1.73896644],\n",
       "       [1.        , 0.22521984],\n",
       "       [1.        , 0.64862507],\n",
       "       [1.        , 1.50204862],\n",
       "       [1.        , 1.20062371],\n",
       "       [1.        , 1.47819575],\n",
       "       [1.        , 1.62926576],\n",
       "       [1.        , 1.96040477],\n",
       "       [1.        , 0.75525288],\n",
       "       [1.        , 0.66998341],\n",
       "       [1.        , 1.75738326],\n",
       "       [1.        , 0.96651699],\n",
       "       [1.        , 0.35569745],\n",
       "       [1.        , 1.04967892],\n",
       "       [1.        , 0.7101125 ],\n",
       "       [1.        , 0.22992823],\n",
       "       [1.        , 0.7348067 ],\n",
       "       [1.        , 1.99033386]])"
      ]
     },
     "execution_count": 27,
     "metadata": {},
     "output_type": "execute_result"
    }
   ],
   "source": [
    "X_b"
   ]
  },
  {
   "cell_type": "code",
   "execution_count": 26,
   "id": "7571ac9c-dffe-4d13-92e7-4de7c4db88d6",
   "metadata": {},
   "outputs": [],
   "source": [
    "theta_best = np.linalg.inv(X_b.T.dot(X_b)).dot(X_b.T).dot(y)"
   ]
  },
  {
   "cell_type": "code",
   "execution_count": 12,
   "id": "4b04b2c3-ca51-41ff-acdf-9d7b3270732f",
   "metadata": {},
   "outputs": [
    {
     "name": "stdout",
     "output_type": "stream",
     "text": [
      "[[3.90797379]\n",
      " [3.16497987]]\n"
     ]
    }
   ],
   "source": [
    "print(theta_best)"
   ]
  },
  {
   "cell_type": "code",
   "execution_count": 17,
   "id": "8f5a6e32-db7c-4ed1-9af9-19a6d45c87d2",
   "metadata": {},
   "outputs": [
    {
     "name": "stdout",
     "output_type": "stream",
     "text": [
      "[[0]\n",
      " [1]]\n"
     ]
    }
   ],
   "source": [
    "new_X = np.array([[0],[1]])\n",
    "print(new_X)"
   ]
  },
  {
   "cell_type": "code",
   "execution_count": 19,
   "id": "11dbba5f-caec-4de5-87cd-5e9a6f44fb8f",
   "metadata": {},
   "outputs": [
    {
     "name": "stdout",
     "output_type": "stream",
     "text": [
      "[[1.]\n",
      " [1.]]\n"
     ]
    }
   ],
   "source": [
    "new_X_b = np.c_[np.ones((2,1)),new_X]\n",
    "print(np.ones((2,1)))"
   ]
  },
  {
   "cell_type": "code",
   "execution_count": 28,
   "id": "3618bfc1-7974-4b40-86da-cca0531ebacd",
   "metadata": {},
   "outputs": [
    {
     "name": "stdout",
     "output_type": "stream",
     "text": [
      "[[1. 0.]\n",
      " [1. 1.]]\n"
     ]
    }
   ],
   "source": [
    "print(new_X_b)"
   ]
  },
  {
   "cell_type": "code",
   "execution_count": 20,
   "id": "836ff94e-b2d2-4598-8901-13807420e2d9",
   "metadata": {},
   "outputs": [],
   "source": [
    "# y = mx + c \n",
    "# theta_best is the parameter that influences the value of y\n",
    "y_predict = new_X_b.dot(theta_best)"
   ]
  },
  {
   "cell_type": "code",
   "execution_count": 21,
   "id": "0648ee09-a3f5-4b0f-921e-84dab9090d5f",
   "metadata": {},
   "outputs": [
    {
     "data": {
      "text/plain": [
       "array([[3.90797379],\n",
       "       [7.07295366]])"
      ]
     },
     "execution_count": 21,
     "metadata": {},
     "output_type": "execute_result"
    }
   ],
   "source": [
    "y_predict"
   ]
  },
  {
   "cell_type": "code",
   "execution_count": 29,
   "id": "84d2c11b-90dc-45b6-bb75-cbc036dd1056",
   "metadata": {},
   "outputs": [
    {
     "data": {
      "image/png": "[encoded data removed]",
      "text/plain": [
       "<Figure size 640x480 with 1 Axes>"
      ]
     },
     "metadata": {},
     "output_type": "display_data"
    }
   ],
   "source": [
    "import matplotlib.pyplot as plt\n",
    "plt.plot(new_X,y_predict,\"r-\")\n",
    "plt.plot(X,y,\"b.\")\n",
    "plt.axis([0,1,0,15])\n",
    "plt.show()"
   ]
  },
  {
   "cell_type": "code",
   "execution_count": null,
   "id": "8071ca5c-a7f3-4f54-b7c8-bab3657a2738",
   "metadata": {},
   "outputs": [],
   "source": []
  },
  {
   "cell_type": "code",
   "execution_count": null,
   "id": "e04171ff-f414-4330-b007-cfe2674fa9bc",
   "metadata": {},
   "outputs": [],
   "source": []
  }
 ],
 "metadata": {
  "kernelspec": {
   "display_name": "Python 3 (ipykernel)",
   "language": "python",
   "name": "python3"
  },
  "language_info": {
   "codemirror_mode": {
    "name": "ipython",
    "version": 3
   },
   "file_extension": ".py",
   "mimetype": "text/x-python",
   "name": "python",
   "nbconvert_exporter": "python",
   "pygments_lexer": "ipython3",
   "version": "3.12.3"
  }
 },
 "nbformat": 4,
 "nbformat_minor": 5
}
